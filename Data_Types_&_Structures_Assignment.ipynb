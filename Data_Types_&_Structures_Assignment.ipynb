{
  "nbformat": 4,
  "nbformat_minor": 0,
  "metadata": {
    "colab": {
      "provenance": []
    },
    "kernelspec": {
      "name": "python3",
      "display_name": "Python 3"
    },
    "language_info": {
      "name": "python"
    }
  },
  "cells": [
    {
      "cell_type": "markdown",
      "source": [
        "1. What are data structures, and why are they important?\n",
        "\n",
        "Ans.\n",
        "*   Data structures are the way of organizing and storing the data so that it can be accessed and modified efficiently. eg, Tuple, String, List, Dictionary, array etc.\n",
        "*   They are important because they are crucial for efficient data management and algorithm implementation, impacting the performance and scalability of software applications.\n",
        "\n",
        "\n",
        "\n"
      ],
      "metadata": {
        "id": "Myl4v3uSvKNL"
      }
    },
    {
      "cell_type": "markdown",
      "source": [
        "2.  Explain the difference between mutable and immutable data types with examples\n",
        "\n",
        "Ans.\n",
        "\n",
        "*   Mutable: can be changed after creation like: list, dict, set.\n",
        "*   Immutable: cannot be changed after creation like: int, float, str, tuple\n",
        "\n",
        "For example:"
      ],
      "metadata": {
        "id": "ZpFNye_7xAjp"
      }
    },
    {
      "cell_type": "code",
      "execution_count": null,
      "metadata": {
        "colab": {
          "base_uri": "https://localhost:8080/"
        },
        "id": "1eNP1QFht5KM",
        "outputId": "6f1e6272-9fad-4aee-af9c-e56eb69405b4"
      },
      "outputs": [
        {
          "output_type": "execute_result",
          "data": {
            "text/plain": [
              "[0, 2]"
            ]
          },
          "metadata": {},
          "execution_count": 2
        }
      ],
      "source": [
        "x = [1, 2]\n",
        "x[0] = 0      #Its mutable\n",
        "x"
      ]
    },
    {
      "cell_type": "code",
      "source": [
        "a = (1, 2)\n",
        "a[0] = 0   #tuple is immutable\n",
        "a"
      ],
      "metadata": {
        "colab": {
          "base_uri": "https://localhost:8080/",
          "height": 176
        },
        "id": "i9G61JP8zSNv",
        "outputId": "cbd4e763-63d6-4a6b-b5ff-c24d557decd6"
      },
      "execution_count": null,
      "outputs": [
        {
          "output_type": "error",
          "ename": "TypeError",
          "evalue": "'tuple' object does not support item assignment",
          "traceback": [
            "\u001b[0;31m---------------------------------------------------------------------------\u001b[0m",
            "\u001b[0;31mTypeError\u001b[0m                                 Traceback (most recent call last)",
            "\u001b[0;32m<ipython-input-4-993289019>\u001b[0m in \u001b[0;36m<cell line: 0>\u001b[0;34m()\u001b[0m\n\u001b[1;32m      1\u001b[0m \u001b[0ma\u001b[0m \u001b[0;34m=\u001b[0m \u001b[0;34m(\u001b[0m\u001b[0;36m1\u001b[0m\u001b[0;34m,\u001b[0m \u001b[0;36m2\u001b[0m\u001b[0;34m)\u001b[0m\u001b[0;34m\u001b[0m\u001b[0;34m\u001b[0m\u001b[0m\n\u001b[0;32m----> 2\u001b[0;31m \u001b[0ma\u001b[0m\u001b[0;34m[\u001b[0m\u001b[0;36m0\u001b[0m\u001b[0;34m]\u001b[0m \u001b[0;34m=\u001b[0m \u001b[0;36m0\u001b[0m   \u001b[0;31m#tuple is immutable\u001b[0m\u001b[0;34m\u001b[0m\u001b[0;34m\u001b[0m\u001b[0m\n\u001b[0m\u001b[1;32m      3\u001b[0m \u001b[0ma\u001b[0m\u001b[0;34m\u001b[0m\u001b[0;34m\u001b[0m\u001b[0m\n",
            "\u001b[0;31mTypeError\u001b[0m: 'tuple' object does not support item assignment"
          ]
        }
      ]
    },
    {
      "cell_type": "markdown",
      "source": [
        "3. What are the main differences between lists and tuples in Python?\n",
        "\n",
        "Ans.\n",
        "*   Lists are mutable & tuples are immutable\n",
        "*   Lists are slower compaired to tuples are faster due to immutability\n",
        "*   Listrs uses more memory where as tuple uses less memory\n",
        "*   Tuples are hashable and can be used as sictionary keys\n"
      ],
      "metadata": {
        "id": "e0SSMueJzvW0"
      }
    },
    {
      "cell_type": "markdown",
      "source": [
        "4. Describe how dictionaries store data.\n",
        "\n",
        "Ans. Dictionaries store data in key-value pairs. Each key is hashed to a unique index in an array where the corresponding value is stored.\n",
        "eg: dict = {'name': 'Sourav', 'age': 31}\n",
        "here name is key while Sourav is value of key.\n"
      ],
      "metadata": {
        "id": "KLNCQPJk0oIV"
      }
    },
    {
      "cell_type": "markdown",
      "source": [
        "5. Why might you use a set instead of a list in Python?\n",
        "\n",
        "Ans.\n",
        "\n",
        "*   Sets autimatically removes duplicate values while list don't do that.\n",
        "*   Also sets provides faster membership tests compared to lists.\n",
        "\n"
      ],
      "metadata": {
        "id": "BGjviqz97U7C"
      }
    },
    {
      "cell_type": "markdown",
      "source": [
        "6. What is a string in Python, and how is it different from a list?\n",
        "\n",
        "Ans.\n",
        "\n",
        "*   String is the sequence of characters which is immutable in nature and it contains only string data types and no other data types.\n",
        "*   While in other hand Lists are collection of items and is mutable data structure which can contains multiple data types.\n",
        "\n"
      ],
      "metadata": {
        "id": "tkrLymsO8UNz"
      }
    },
    {
      "cell_type": "markdown",
      "source": [
        "7. How do tuples ensure data integrity in Python?\n",
        "\n",
        "Ans. Since tuples are immutable in nature thats why, Once created, the elements of a tuple cannot be changed, ensuring that the data remains constant."
      ],
      "metadata": {
        "id": "DgoboAs_8hMs"
      }
    },
    {
      "cell_type": "markdown",
      "source": [
        "8. What is a hash table, and how does it relate to dictionaries in Python?\n",
        "\n",
        "Ans.\n",
        "\n",
        "*   Hash Table: A data structure that maps keys to values using a hash function to compute an index into an array of buckets or slots.\n",
        "*   Relation to Dictionaries: Python dictionaries are implemented using hash tables.\n",
        "\n"
      ],
      "metadata": {
        "id": "Q--Xt8bW9I4a"
      }
    },
    {
      "cell_type": "markdown",
      "source": [
        "9. Can lists contain different data types in Python?\n",
        "\n",
        "Ans. Yes: Lists can contain elements of different data types, such as integers, strings, and even other lists.\\\n",
        "\n",
        "eg: mylist = [1, 'Ajay', 3.5, 2+3j, 4]\n",
        "\n",
        "\n",
        "  \n",
        "\n"
      ],
      "metadata": {
        "id": "xLoAEfIl-meO"
      }
    },
    {
      "cell_type": "markdown",
      "source": [
        "10. Explain why strings are immutable in Python?\n",
        "\n",
        "Ans. Immutability helps with performance optimization, memory efficiency, and thread safety. It also allows strings to be used as keys in dictionaries."
      ],
      "metadata": {
        "id": "PKNxvrfg_Rv6"
      }
    },
    {
      "cell_type": "markdown",
      "source": [
        "11. What advantages do dictionaries offer over lists for certain tasks?\n",
        "\n",
        "Ans. Key-Value Mapping: Efficient for lookups, insertions, and deletions based on keys. For example: storing user information where quick access to user details by username is needed."
      ],
      "metadata": {
        "id": "lahmjz1i_kL1"
      }
    },
    {
      "cell_type": "markdown",
      "source": [
        "12. Describe a scenario where using a tuple would be preferable over a list.\n",
        "\n",
        "Ans. Storing coordinates of a point (x, y) where the values should not change."
      ],
      "metadata": {
        "id": "z1i5S_iEMZxs"
      }
    },
    {
      "cell_type": "markdown",
      "source": [
        "13. How do sets handle duplicate values in Python?\n",
        "\n",
        "Ans. Python set data structures inherently do not allow duplicate values. When we attempt to add duplicate values to a set, or when we create a set from an iterable that contains duplicates, the set will automatically discard the duplicates, storing only one instance of each unique element."
      ],
      "metadata": {
        "id": "qXEi_C97Mm-T"
      }
    },
    {
      "cell_type": "markdown",
      "source": [
        "14. How does the “in” keyword work differently for lists and dictionaries?\n",
        "\n",
        "Ans. In List \"in\" checks for the presence of a value as an element.\n",
        "In Dictionary \"in\" checks for the presence of a key."
      ],
      "metadata": {
        "id": "eMS8aNGQMxor"
      }
    },
    {
      "cell_type": "markdown",
      "source": [
        "15. Can you modify the elements of a tuple? Explain why or why not?\n",
        "\n",
        "Ans. Since Tuples data structure is immutable, meaning we cannot modify, reassign, or delete the elements of tuples once its created."
      ],
      "metadata": {
        "id": "Dnlv41O8NZQo"
      }
    },
    {
      "cell_type": "markdown",
      "source": [
        "16. What is a nested dictionary, and give an example of its use case?\n",
        "\n",
        "Ans. A nested dictionary is the dictionary within another dictionary.\n",
        "\n",
        "For example:\n",
        "nested_dict =  {'user1': {'name': 'Sanjay', 'age': 34}, 'user2': {'name': 'Ajay', 'age': 26}}"
      ],
      "metadata": {
        "id": "rkqY0bvZNpfk"
      }
    },
    {
      "cell_type": "markdown",
      "source": [
        "17. Describe the time complexity of accessing elements in a dictionary.\n",
        "\n",
        "Ans. On average, accessing elements in a dictionary is O(1) due to its underlying hash table structure"
      ],
      "metadata": {
        "id": "5uIqLQNHOx0T"
      }
    },
    {
      "cell_type": "markdown",
      "source": [
        "18. In what situations are lists preferred over dictionaries?\n",
        "\n",
        "Ans. When data naturally fits a sequence, where order and positional access are important, and duplicates are acceptable, a list is the preffered choice."
      ],
      "metadata": {
        "id": "c5MEkmlPP0ME"
      }
    },
    {
      "cell_type": "markdown",
      "source": [
        "19. Why are dictionaries considered unordered, and how does that affect data retrieval?\n",
        "\n",
        "Ans.\n",
        "\n",
        "*   Dictionaries are designed for fast, direct access to values when we have the unique key. Their \"unordered\" nature means we trade index-based access for extremely efficient key-based retrieval, making them ideal for mapping and lookup tasks.\n",
        "*   We cannot retrieve items using integer indices like my_dict[0]. We must know the exact key to retrieve its associated value.\n",
        "*   Data retrieval is inherently driven by the key. If we don't know the key, we have to iterate through the dictionary's keys or values to find what we're looking for, which is less efficient than a direct key lookup.\n",
        "\n",
        "\n",
        "\n",
        "\n"
      ],
      "metadata": {
        "id": "5uoYbdenP64D"
      }
    },
    {
      "cell_type": "markdown",
      "source": [
        "20. Explain the difference between a list and a dictionary in terms of data retrieval.\n",
        "\n",
        "Ans.\n",
        "\n",
        "*   List: Data is retrieved by index (position)\n",
        "*   Dictionary: Data is retrieved by key (lable/identifier), which is faster and more descriptive.\n",
        "\n"
      ],
      "metadata": {
        "id": "gxyiV0dkQYWR"
      }
    },
    {
      "cell_type": "code",
      "source": [
        "#1.Write a code to create a string with your name and print it.\n",
        "\n",
        "name = \"Sourav Ghosal\"\n",
        "print(name)"
      ],
      "metadata": {
        "id": "wDrGBL5XRahl",
        "colab": {
          "base_uri": "https://localhost:8080/"
        },
        "outputId": "ab660d7e-e356-4db8-ec12-188ed3f0aa07"
      },
      "execution_count": null,
      "outputs": [
        {
          "output_type": "stream",
          "name": "stdout",
          "text": [
            "Sourav Ghosal\n"
          ]
        }
      ]
    },
    {
      "cell_type": "code",
      "source": [
        "#2.Write a code to find the length of the string \"Hello World\".\n",
        "\n",
        "print(len(\"Hello World\"))"
      ],
      "metadata": {
        "id": "zW5qjwWlzrFA",
        "colab": {
          "base_uri": "https://localhost:8080/"
        },
        "outputId": "c2a2b26a-189a-4879-a686-78da392ef5a5"
      },
      "execution_count": null,
      "outputs": [
        {
          "output_type": "stream",
          "name": "stdout",
          "text": [
            "11\n"
          ]
        }
      ]
    },
    {
      "cell_type": "code",
      "source": [
        "#3.Write a code to slice the first 3 characters from the string \"Python Programming\".\n",
        "\n",
        "string = \"Python Programming\"\n",
        "sliced_string = string[:3]\n",
        "print(sliced_string)"
      ],
      "metadata": {
        "colab": {
          "base_uri": "https://localhost:8080/"
        },
        "id": "57OFzbHHyaWO",
        "outputId": "44ba6a00-da18-4ec0-8213-94aac55dd98f"
      },
      "execution_count": null,
      "outputs": [
        {
          "output_type": "stream",
          "name": "stdout",
          "text": [
            "Pyt\n"
          ]
        }
      ]
    },
    {
      "cell_type": "code",
      "source": [
        "#4.Write a code to convert the string \"hello\" to uppercase.\n",
        "\n",
        "string = \"hello\"\n",
        "uprString = string.upper()\n",
        "print(uprString)"
      ],
      "metadata": {
        "colab": {
          "base_uri": "https://localhost:8080/"
        },
        "id": "V0RCUFt0zmpN",
        "outputId": "d8a79e50-a265-404a-89bb-9fcf1b47b663"
      },
      "execution_count": null,
      "outputs": [
        {
          "output_type": "stream",
          "name": "stdout",
          "text": [
            "HELLO\n"
          ]
        }
      ]
    },
    {
      "cell_type": "code",
      "source": [
        "# 5.Write a code to replace the word \"apple\" with \"orange\" in the string \"I like apple\".\n",
        "\n",
        "String = \"I like apple\"\n",
        "repString = String.replace('apple', 'orange')\n",
        "print(repString)"
      ],
      "metadata": {
        "colab": {
          "base_uri": "https://localhost:8080/"
        },
        "id": "46byik37z5S0",
        "outputId": "53ba4610-b55f-4a6d-8c55-ef271b8844bd"
      },
      "execution_count": null,
      "outputs": [
        {
          "output_type": "stream",
          "name": "stdout",
          "text": [
            "I like orange\n"
          ]
        }
      ]
    },
    {
      "cell_type": "code",
      "source": [
        "#6.Write a code to create a list with numbers 1 to 5 and print it.\n",
        "\n",
        "numlist = [1,2,3,4,5]\n",
        "print(numlist)"
      ],
      "metadata": {
        "colab": {
          "base_uri": "https://localhost:8080/"
        },
        "id": "NM2ynHxG0MSw",
        "outputId": "be4e7f61-ba64-4aec-bcd6-3481dc975d3e"
      },
      "execution_count": null,
      "outputs": [
        {
          "output_type": "stream",
          "name": "stdout",
          "text": [
            "[1, 2, 3, 4, 5]\n"
          ]
        }
      ]
    },
    {
      "cell_type": "code",
      "source": [
        "#7.Write a code to append the number 10 to the list [1, 2, 3, 4].\n",
        "\n",
        "numList = [1, 2, 3, 4]\n",
        "numList.append(10)\n",
        "print(numList)"
      ],
      "metadata": {
        "colab": {
          "base_uri": "https://localhost:8080/"
        },
        "id": "By6WgZPT0YQ0",
        "outputId": "28385205-06e5-446c-dab2-5aae4cf80497"
      },
      "execution_count": null,
      "outputs": [
        {
          "output_type": "stream",
          "name": "stdout",
          "text": [
            "[1, 2, 3, 4, 10]\n"
          ]
        }
      ]
    },
    {
      "cell_type": "code",
      "source": [
        "#8.Write a code to remove the number 3 from the list [1, 2, 3, 4, 5].\n",
        "\n",
        "numList = [1, 2, 3, 4, 5]\n",
        "numList.remove(3)\n",
        "print(numList)"
      ],
      "metadata": {
        "colab": {
          "base_uri": "https://localhost:8080/"
        },
        "id": "BsjLDA9L0il4",
        "outputId": "b5ce2922-c09f-4c39-bd30-0327eba24afa"
      },
      "execution_count": null,
      "outputs": [
        {
          "output_type": "stream",
          "name": "stdout",
          "text": [
            "[1, 2, 4, 5]\n"
          ]
        }
      ]
    },
    {
      "cell_type": "code",
      "source": [
        "#9.Write a code to access the second element in the list ['a', 'b', 'c', 'd'].\n",
        "\n",
        "alphlist = ['a', 'b', 'c', 'd']\n",
        "print(alphlist[1])"
      ],
      "metadata": {
        "colab": {
          "base_uri": "https://localhost:8080/"
        },
        "id": "3L-8otyv074R",
        "outputId": "dbddc269-74c1-4896-f037-07f800c1c910"
      },
      "execution_count": null,
      "outputs": [
        {
          "output_type": "stream",
          "name": "stdout",
          "text": [
            "b\n"
          ]
        }
      ]
    },
    {
      "cell_type": "code",
      "source": [
        "#10.Write a code to reverse the list [10, 20, 30, 40, 50].\n",
        "\n",
        "numList = [10, 20, 30, 40, 50]\n",
        "print(numList[::-1])"
      ],
      "metadata": {
        "colab": {
          "base_uri": "https://localhost:8080/"
        },
        "id": "Zq5h4gD-1v-D",
        "outputId": "d9db0778-5513-4dd6-cb83-b9f6d45714b3"
      },
      "execution_count": null,
      "outputs": [
        {
          "output_type": "stream",
          "name": "stdout",
          "text": [
            "[50, 40, 30, 20, 10]\n"
          ]
        }
      ]
    },
    {
      "cell_type": "code",
      "source": [
        "#11. Write a code to create a tuple with the elements 100, 200, 300 and print it.\n",
        "\n",
        "firsttuple = (100,200,300)\n",
        "print(firsttuple)"
      ],
      "metadata": {
        "colab": {
          "base_uri": "https://localhost:8080/"
        },
        "id": "hUhqz5Wt1-Wz",
        "outputId": "2100651c-4c9e-4dcd-e1f6-018b14a99cae"
      },
      "execution_count": null,
      "outputs": [
        {
          "output_type": "stream",
          "name": "stdout",
          "text": [
            "(100, 200, 300)\n"
          ]
        }
      ]
    },
    {
      "cell_type": "code",
      "source": [
        "#12.Write a code to access the second-to-last element of the tuple ('red', 'green', 'blue', 'yellow').\n",
        "\n",
        "coltuple = ('red', 'green', 'blue', 'yellow')\n",
        "print(coltuple[-2])"
      ],
      "metadata": {
        "colab": {
          "base_uri": "https://localhost:8080/"
        },
        "id": "v4k2iuDU2MHh",
        "outputId": "24c3ac10-412d-4571-dc1f-840d236d4697"
      },
      "execution_count": null,
      "outputs": [
        {
          "output_type": "stream",
          "name": "stdout",
          "text": [
            "blue\n"
          ]
        }
      ]
    },
    {
      "cell_type": "code",
      "source": [
        "#13. Write a code to find the minimum number in the tuple (10, 20, 5, 15).\n",
        "\n",
        "numtuple = (10, 20, 5, 15)\n",
        "print(min(numtuple))"
      ],
      "metadata": {
        "colab": {
          "base_uri": "https://localhost:8080/"
        },
        "id": "a3jFT0Hk2glN",
        "outputId": "68173261-f28c-4d95-95a0-b8e0a87aad5b"
      },
      "execution_count": null,
      "outputs": [
        {
          "output_type": "stream",
          "name": "stdout",
          "text": [
            "5\n"
          ]
        }
      ]
    },
    {
      "cell_type": "code",
      "source": [
        "#14.Write a code to find the index of the element \"cat\" in the tuple ('dog', 'cat', 'rabbit').\n",
        "\n",
        "animal = ('dog', 'cat', 'rabbit')\n",
        "print(animal.index('cat'))"
      ],
      "metadata": {
        "colab": {
          "base_uri": "https://localhost:8080/"
        },
        "id": "7Z7xkpqZ2sWd",
        "outputId": "fe9f41ae-4bca-45f7-b4b6-cf4b0960e5ac"
      },
      "execution_count": null,
      "outputs": [
        {
          "output_type": "stream",
          "name": "stdout",
          "text": [
            "1\n"
          ]
        }
      ]
    },
    {
      "cell_type": "code",
      "source": [
        "#15. Write a code to create a tuple containing three different fruits and check if \"kiwi\" is in it.\n",
        "\n",
        "frutuple = ('Apple','mango','kiwi')\n",
        "ifKiwi = 'kiwi' in frutuple\n",
        "print(ifKiwi)"
      ],
      "metadata": {
        "colab": {
          "base_uri": "https://localhost:8080/"
        },
        "id": "lxeI5hnq28IX",
        "outputId": "ed93fae0-0ebd-40cc-c4d4-db92256d34c1"
      },
      "execution_count": null,
      "outputs": [
        {
          "output_type": "stream",
          "name": "stdout",
          "text": [
            "True\n"
          ]
        }
      ]
    },
    {
      "cell_type": "code",
      "source": [
        "#16.Write a code to create a set with the elements 'a', 'b', 'c' and print it.\n",
        "\n",
        "alphset = {'a','b','c'}\n",
        "print(alphset)"
      ],
      "metadata": {
        "colab": {
          "base_uri": "https://localhost:8080/"
        },
        "id": "yETI-DPA3cdi",
        "outputId": "009564e1-d686-4460-a721-52a3b4e4197f"
      },
      "execution_count": null,
      "outputs": [
        {
          "output_type": "stream",
          "name": "stdout",
          "text": [
            "{'c', 'b', 'a'}\n"
          ]
        }
      ]
    },
    {
      "cell_type": "code",
      "source": [
        "#17.Write a code to clear all elements from the set {1, 2, 3, 4, 5}.\n",
        "\n",
        "alphset =  {1, 2, 3, 4, 5}\n",
        "clearset = alphset.clear()\n",
        "print(clearset)"
      ],
      "metadata": {
        "colab": {
          "base_uri": "https://localhost:8080/"
        },
        "id": "U1WvsJy43sox",
        "outputId": "5b09423c-29b1-467f-dd3e-79aa4f3fe662"
      },
      "execution_count": null,
      "outputs": [
        {
          "output_type": "stream",
          "name": "stdout",
          "text": [
            "None\n"
          ]
        }
      ]
    },
    {
      "cell_type": "code",
      "source": [
        "#18.Write a code to remove the element 4 from the set {1, 2, 3, 4}\n",
        "\n",
        "alphaset = {1, 2, 3, 4}\n",
        "remset= alphaset.remove(4)\n",
        "print(alphaset)"
      ],
      "metadata": {
        "colab": {
          "base_uri": "https://localhost:8080/"
        },
        "id": "o3ib1HmQ38nV",
        "outputId": "bfedaf0e-89c0-4f49-ba99-5b50499adb12"
      },
      "execution_count": null,
      "outputs": [
        {
          "output_type": "stream",
          "name": "stdout",
          "text": [
            "{1, 2, 3}\n"
          ]
        }
      ]
    },
    {
      "cell_type": "code",
      "source": [
        "#19.Write a code to find the union of two sets {1, 2, 3} and {3, 4, 5}.\n",
        "\n",
        "set1 = {1, 2, 3}\n",
        "set2 = {3, 4, 5}\n",
        "setunion = set1.union(set2)\n",
        "print(setunion)"
      ],
      "metadata": {
        "colab": {
          "base_uri": "https://localhost:8080/"
        },
        "id": "2MKGso3F4Pxr",
        "outputId": "3ca0d4f8-e056-4db9-aae1-913d72209672"
      },
      "execution_count": null,
      "outputs": [
        {
          "output_type": "stream",
          "name": "stdout",
          "text": [
            "{1, 2, 3, 4, 5}\n"
          ]
        }
      ]
    },
    {
      "cell_type": "code",
      "source": [
        "#20.Write a code to find the intersection of two sets {1, 2, 3} and {2, 3, 4}.\n",
        "\n",
        "set1 = {1, 2, 3}\n",
        "set2 = {3, 4, 5}\n",
        "setintersect= set1.intersection(set2)\n",
        "print(setintersect)"
      ],
      "metadata": {
        "colab": {
          "base_uri": "https://localhost:8080/"
        },
        "id": "PdEDgLDh4f1R",
        "outputId": "920784a6-3fa1-4cb0-bab8-1781e7140239"
      },
      "execution_count": null,
      "outputs": [
        {
          "output_type": "stream",
          "name": "stdout",
          "text": [
            "{3}\n"
          ]
        }
      ]
    },
    {
      "cell_type": "code",
      "source": [
        "#21.Write a code to create a dictionary with the keys \"name\", \"age\", and \"city\", and print it.\n",
        "\n",
        "dict = {'name':'Ajay', 'age':'30', 'city':'Mumbai'}\n",
        "print(dict)"
      ],
      "metadata": {
        "colab": {
          "base_uri": "https://localhost:8080/"
        },
        "id": "F3vOfl_v4sHr",
        "outputId": "3a8c6281-f4cb-4f60-a41a-dbf991109e6a"
      },
      "execution_count": null,
      "outputs": [
        {
          "output_type": "stream",
          "name": "stdout",
          "text": [
            "{'name': 'Ajay', 'age': '30', 'city': 'Mumbai'}\n"
          ]
        }
      ]
    },
    {
      "cell_type": "code",
      "source": [
        "#22.Write a code to add a new key-value pair \"country\": \"USA\" to the dictionary {'name': 'John', 'age': 25}\n",
        "\n",
        "perdict = {'name':'John', 'age':'25'}\n",
        "perdict['Country'] = 'USA'\n",
        "print(perdict)"
      ],
      "metadata": {
        "colab": {
          "base_uri": "https://localhost:8080/"
        },
        "id": "C8DSffCD49p5",
        "outputId": "336f69ab-c507-4182-9604-c38b07c3a1fd"
      },
      "execution_count": null,
      "outputs": [
        {
          "output_type": "stream",
          "name": "stdout",
          "text": [
            "{'name': 'John', 'age': '25', 'Country': 'USA'}\n"
          ]
        }
      ]
    },
    {
      "cell_type": "code",
      "source": [
        "#23.Write a code to access the value associated with the key \"name\" in the dictionary {'name': 'Alice', 'age': 30}\n",
        "\n",
        "Dict = {'name': 'Alice', 'age': 30}\n",
        "val = Dict['name']\n",
        "print(val)"
      ],
      "metadata": {
        "colab": {
          "base_uri": "https://localhost:8080/"
        },
        "id": "b8Mge8rk5jVs",
        "outputId": "110ad6ba-6870-4629-b0b6-43d8ffee5c81"
      },
      "execution_count": null,
      "outputs": [
        {
          "output_type": "stream",
          "name": "stdout",
          "text": [
            "Alice\n"
          ]
        }
      ]
    },
    {
      "cell_type": "code",
      "source": [
        "#24.Write a code to remove the key \"age\" from the dictionary {'name': 'Bob', 'age': 22, 'city': 'New York'}.\n",
        "\n",
        "lisdict = {'name': 'Bob', 'age': 22, 'city': 'New York'}\n",
        "remdict = lisdict.pop('age')\n",
        "print(remdict)\n",
        "print(lisdict)"
      ],
      "metadata": {
        "colab": {
          "base_uri": "https://localhost:8080/"
        },
        "id": "uuvwfulX6C4b",
        "outputId": "220c4a48-61c4-4747-a2fc-6765c57b96fd"
      },
      "execution_count": null,
      "outputs": [
        {
          "output_type": "stream",
          "name": "stdout",
          "text": [
            "22\n",
            "{'name': 'Bob', 'city': 'New York'}\n"
          ]
        }
      ]
    },
    {
      "cell_type": "code",
      "source": [
        "#25.Write a code to check if the key \"city\" exists in the dictionary {'name': 'Alice', 'city': 'Paris'}\n",
        "\n",
        "namedict = {'name': 'Alice', 'city': 'Paris'}\n",
        "doexist = 'city' in namedict\n",
        "print(doexist)"
      ],
      "metadata": {
        "colab": {
          "base_uri": "https://localhost:8080/"
        },
        "id": "WOxOkto_8Dq0",
        "outputId": "c338ef49-ab16-484c-99d3-1b0a09b5a2d9"
      },
      "execution_count": null,
      "outputs": [
        {
          "output_type": "stream",
          "name": "stdout",
          "text": [
            "True\n"
          ]
        }
      ]
    },
    {
      "cell_type": "code",
      "source": [
        "#26.Write a code to create a list, a tuple, and a dictionary, and print them all.\n",
        "\n",
        "list=['Ajay','Bijay','Sanjay']\n",
        "tuple=('Priya','Priyanka','Preeti')\n",
        "dict={'Name':'Sourav','Age':'31','Country':'India'}\n",
        "print(list)\n",
        "print(tuple)\n",
        "print(dict)"
      ],
      "metadata": {
        "colab": {
          "base_uri": "https://localhost:8080/"
        },
        "id": "lb9OwUMc8kN4",
        "outputId": "54080970-aec6-4305-a9d6-96b6d24a72ff"
      },
      "execution_count": null,
      "outputs": [
        {
          "output_type": "stream",
          "name": "stdout",
          "text": [
            "['Ajay', 'Bijay', 'Sanjay']\n",
            "('Priya', 'Priyanka', 'Preeti')\n",
            "{'Name': 'Sourav', 'Age': '31', 'Country': 'India'}\n"
          ]
        }
      ]
    },
    {
      "cell_type": "code",
      "source": [
        "#27.Write a code to create a list of 5 random numbers between 1 and 100, sort it in ascending order, and print the result.(replaced)\n",
        "\n",
        "import random\n",
        "\n",
        "# Create a list of 5 random numbers between 1 and 100\n",
        "random_number = random.sample(range(1, 101), 5)\n",
        "\n",
        "# Sort the list in ascending order\n",
        "random_number.sort()\n",
        "\n",
        "# Print the result\n",
        "print(random_number)"
      ],
      "metadata": {
        "colab": {
          "base_uri": "https://localhost:8080/"
        },
        "id": "OBHn-OCa9A7T",
        "outputId": "b7f0223c-9342-48dd-9947-1cf98ccb145d"
      },
      "execution_count": null,
      "outputs": [
        {
          "output_type": "stream",
          "name": "stdout",
          "text": [
            "[11, 15, 40, 46, 76]\n"
          ]
        }
      ]
    },
    {
      "cell_type": "code",
      "source": [
        "#28.Write a code to create a list with strings and print the element at the third index.\n",
        "\n",
        "strlist = ['Sonali','Sushma','Shreya','Sanjay','Nirmal']\n",
        "third_index = strlist[2]\n",
        "print(third_index)"
      ],
      "metadata": {
        "colab": {
          "base_uri": "https://localhost:8080/"
        },
        "id": "26JNciw19yG5",
        "outputId": "8e4e4a96-9da9-4d06-a988-cf05fd547ec4"
      },
      "execution_count": null,
      "outputs": [
        {
          "output_type": "stream",
          "name": "stdout",
          "text": [
            "Shreya\n"
          ]
        }
      ]
    },
    {
      "cell_type": "code",
      "source": [
        "#29. Write a code to combine two dictionaries into one and print the result.\n",
        "\n",
        "dict1 = {'Name':'Shreya','Age':'27','Relation':'wife'}\n",
        "dict2 = {'MarriageDate':'20/05/2022'}\n",
        "combdict = {**dict1,**dict2}\n",
        "print(combdict)"
      ],
      "metadata": {
        "colab": {
          "base_uri": "https://localhost:8080/"
        },
        "id": "Bt4ePSYX-nfR",
        "outputId": "00501cae-cb16-44c8-a747-6d631a362ff2"
      },
      "execution_count": null,
      "outputs": [
        {
          "output_type": "stream",
          "name": "stdout",
          "text": [
            "{'Name': 'Shreya', 'Age': '27', 'Relation': 'wife', 'MarriageDate': '20/05/2022'}\n"
          ]
        }
      ]
    },
    {
      "cell_type": "code",
      "source": [
        "#30.Write a code to convert a list of strings into a set.\n",
        "\n",
        "string_list = [\"apple\", \"banana\", \"orange\", \"apple\", \"banana\"]\n",
        "string_set = set(string_list)\n",
        "print(string_set)"
      ],
      "metadata": {
        "colab": {
          "base_uri": "https://localhost:8080/"
        },
        "id": "csPYbx9UJgKh",
        "outputId": "0370b978-83ee-4481-ee31-b404f93f3207"
      },
      "execution_count": null,
      "outputs": [
        {
          "output_type": "stream",
          "name": "stdout",
          "text": [
            "{'orange', 'banana', 'apple'}\n"
          ]
        }
      ]
    }
  ]
}